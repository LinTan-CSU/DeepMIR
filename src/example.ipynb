{
 "cells": [
  {
   "cell_type": "markdown",
   "id": "9ce20fef",
   "metadata": {},
   "source": [
    "# DeepMIR"
   ]
  },
  {
   "cell_type": "markdown",
   "id": "ea0e120e",
   "metadata": {},
   "source": [
    "## 1. Load tool packages"
   ]
  },
  {
   "cell_type": "code",
   "execution_count": 44,
   "id": "b82a58f9",
   "metadata": {
    "ExecuteTime": {
     "end_time": "2024-04-22T02:53:07.114430700Z",
     "start_time": "2024-04-22T02:53:07.096344500Z"
    }
   },
   "outputs": [],
   "source": [
    "from Dataset import Dataset\n",
    "import torch.utils.data as data\n",
    "import torch\n",
    "from DeepMIR import Model\n",
    "import csv\n",
    "from Metrics import Metrics"
   ]
  },
  {
   "cell_type": "markdown",
   "source": [
    "## 2. Load the model"
   ],
   "metadata": {
    "collapsed": false
   }
  },
  {
   "cell_type": "code",
   "execution_count": 45,
   "outputs": [
    {
     "data": {
      "text/plain": "Model(\n  (Conv1dA): Conv1d(1, 32, kernel_size=(7,), stride=(1,), padding=(3,))\n  (BN1dA): BatchNorm1d(32, eps=1e-05, momentum=0.1, affine=True, track_running_stats=True)\n  (Act1dA): ReLU()\n  (Pool1dA): MaxPool1d(kernel_size=3, stride=3, padding=0, dilation=1, ceil_mode=False)\n  (Conv1dB): Conv1d(1, 32, kernel_size=(7,), stride=(1,), padding=(3,))\n  (BN1dB): BatchNorm1d(32, eps=1e-05, momentum=0.1, affine=True, track_running_stats=True)\n  (Act1dB): ReLU()\n  (Pool1dB): MaxPool1d(kernel_size=3, stride=3, padding=0, dilation=1, ceil_mode=False)\n  (Conv2d1): Conv2d(1, 32, kernel_size=(1, 1), stride=(1, 1))\n  (BN2d1): BatchNorm2d(32, eps=1e-05, momentum=0.1, affine=True, track_running_stats=True)\n  (Act2d1): ReLU()\n  (Conv2d2): Conv2d(32, 32, kernel_size=(3, 3), stride=(1, 1), padding=(2, 2), dilation=(2, 2))\n  (BN2d2): BatchNorm2d(32, eps=1e-05, momentum=0.1, affine=True, track_running_stats=True)\n  (Act2d2): ReLU()\n  (Conv2d3): Conv2d(32, 32, kernel_size=(3, 3), stride=(1, 1), padding=(4, 4), dilation=(4, 4))\n  (BN2d3): BatchNorm2d(32, eps=1e-05, momentum=0.1, affine=True, track_running_stats=True)\n  (Act2d3): ReLU()\n  (Conv2d4): Conv2d(32, 32, kernel_size=(1, 1), stride=(1, 1))\n  (BN2d4): BatchNorm2d(32, eps=1e-05, momentum=0.1, affine=True, track_running_stats=True)\n  (Act2d4): ReLU()\n  (Pool2d): SpatialPyramidPooling()\n  (Flatten1): Linear(in_features=960, out_features=1024, bias=True)\n  (Act2d5): ReLU()\n  (drop): Dropout(p=0.5, inplace=False)\n  (Flatten2): Linear(in_features=1024, out_features=1, bias=True)\n  (Act2d6): Sigmoid()\n)"
     },
     "execution_count": 45,
     "metadata": {},
     "output_type": "execute_result"
    }
   ],
   "source": [
    "model_path = '../model/DeepMIR.pth'\n",
    "state_dict = torch.load(model_path)\n",
    "model = Model()\n",
    "model.load_state_dict(state_dict)\n",
    "model.eval()"
   ],
   "metadata": {
    "collapsed": false,
    "ExecuteTime": {
     "end_time": "2024-04-22T02:53:08.179518400Z",
     "start_time": "2024-04-22T02:53:08.151625500Z"
    }
   }
  },
  {
   "cell_type": "markdown",
   "source": [
    "## 3. Load the data"
   ],
   "metadata": {
    "collapsed": false
   }
  },
  {
   "cell_type": "code",
   "execution_count": 46,
   "outputs": [],
   "source": [
    "lib = ['1,2-dichloroethane', '1-butanol', 'acetonitrile', 'cyclohexane', 'dichloromethane', 'diethylene_glycol_dimethyl_ether', 'ethanol', 'hexane', 'isopropyl_alcohol', 'methanol', 'toluene', 'trichloromethane']\n",
    "test_dataset = Dataset('../data/Quinary.npy')\n",
    "test_dataloader = data.DataLoader(test_dataset, shuffle=False, batch_size=len(lib))"
   ],
   "metadata": {
    "collapsed": false,
    "ExecuteTime": {
     "end_time": "2024-04-22T02:53:09.483627900Z",
     "start_time": "2024-04-22T02:53:09.463909200Z"
    }
   }
  },
  {
   "cell_type": "markdown",
   "source": [
    "## 4. Component Prediction"
   ],
   "metadata": {
    "collapsed": false
   }
  },
  {
   "cell_type": "code",
   "execution_count": 47,
   "outputs": [],
   "source": [
    "csv_file = '../res/DeepMIR_Quinary.csv'\n",
    "with open(csv_file, 'w', newline='') as f:\n",
    "    writer = csv.writer(f)\n",
    "\n",
    "    for epoch in range(1):\n",
    "        model.eval()\n",
    "\n",
    "        for i, data in enumerate(test_dataloader, 0):\n",
    "            inputs = data\n",
    "\n",
    "            outputs = model(inputs)\n",
    "\n",
    "            top_values, top_indices = torch.topk(outputs.view(-1), k=len(lib))\n",
    "\n",
    "            # Prepare the row data as a list\n",
    "            row_data = []\n",
    "            for j in range(len(lib)):\n",
    "                row_data.extend([lib[top_indices[j]], float(top_values[j])])\n",
    "\n",
    "            # Write the row data to the CSV file\n",
    "            writer.writerow(row_data)"
   ],
   "metadata": {
    "collapsed": false,
    "ExecuteTime": {
     "end_time": "2024-04-22T02:53:17.393937600Z",
     "start_time": "2024-04-22T02:53:10.883715600Z"
    }
   }
  },
  {
   "cell_type": "markdown",
   "source": [
    "## 5. Metrics"
   ],
   "metadata": {
    "collapsed": false
   }
  },
  {
   "cell_type": "code",
   "execution_count": 48,
   "outputs": [
    {
     "name": "stdout",
     "output_type": "stream",
     "text": [
      "TPR:0.8600 TNR:0.9714 ACC:0.9250\n"
     ]
    }
   ],
   "source": [
    "TPR, TNR, ACC = Metrics('../res/DeepMIR_Quinary.csv', '../data/Quinary_labels.csv')\n",
    "print(\"TPR:{:.4f}\".format(TPR), \"TNR:{:.4f}\".format(TNR), \"ACC:{:.4f}\".format(ACC))"
   ],
   "metadata": {
    "collapsed": false,
    "ExecuteTime": {
     "end_time": "2024-04-22T02:53:18.384596500Z",
     "start_time": "2024-04-22T02:53:18.378315800Z"
    }
   }
  }
 ],
 "metadata": {
  "kernelspec": {
   "display_name": "Python 3 (ipykernel)",
   "language": "python",
   "name": "python3"
  },
  "language_info": {
   "codemirror_mode": {
    "name": "ipython",
    "version": 3
   },
   "file_extension": ".py",
   "mimetype": "text/x-python",
   "name": "python",
   "nbconvert_exporter": "python",
   "pygments_lexer": "ipython3",
   "version": "3.11.3"
  }
 },
 "nbformat": 4,
 "nbformat_minor": 5
}
