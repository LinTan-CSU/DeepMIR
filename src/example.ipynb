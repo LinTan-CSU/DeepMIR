{
 "cells": [
  {
   "cell_type": "markdown",
   "source": [
    "# DeepMIR"
   ],
   "metadata": {
    "collapsed": false
   }
  },
  {
   "cell_type": "markdown",
   "source": [
    "## 1. Load tool packages"
   ],
   "metadata": {
    "collapsed": false
   }
  },
  {
   "cell_type": "code",
   "execution_count": 1,
   "outputs": [],
   "source": [
    "from Metrics import Metrics\n",
    "import wget\n",
    "from Predict import predict"
   ],
   "metadata": {
    "collapsed": false,
    "ExecuteTime": {
     "end_time": "2024-05-09T08:43:39.726397800Z",
     "start_time": "2024-05-09T08:43:36.047196600Z"
    }
   }
  },
  {
   "cell_type": "markdown",
   "source": [
    "## 2. Load the data"
   ],
   "metadata": {
    "collapsed": false
   }
  },
  {
   "cell_type": "code",
   "execution_count": 2,
   "outputs": [
    {
     "data": {
      "text/plain": "'../data//Quaternary_labels.csv'"
     },
     "execution_count": 2,
     "metadata": {},
     "output_type": "execute_result"
    }
   ],
   "source": [
    "wget.download('https://github.com/LinTan-CSU/DeepMIR/releases/download/OrganicSolventsDataset/Quaternary.npy', '../data/')\n",
    "wget.download('https://github.com/LinTan-CSU/DeepMIR/releases/download/OrganicSolventsDataset/Quaternary_labels.csv', '../data/')"
   ],
   "metadata": {
    "collapsed": false,
    "ExecuteTime": {
     "end_time": "2024-05-09T08:43:49.313667Z",
     "start_time": "2024-05-09T08:43:39.724398Z"
    }
   }
  },
  {
   "cell_type": "markdown",
   "source": [
    "## 3. Component Prediction"
   ],
   "metadata": {
    "collapsed": false
   }
  },
  {
   "cell_type": "code",
   "execution_count": 3,
   "outputs": [
    {
     "data": {
      "text/plain": "                                 0         1   \\\n0  diethylene_glycol_dimethyl_ether  0.997112   \n1  diethylene_glycol_dimethyl_ether  0.998766   \n2                 isopropyl_alcohol  0.999742   \n3                      acetonitrile  0.999983   \n4  diethylene_glycol_dimethyl_ether  0.996662   \n5                1,2-dichloroethane  0.999655   \n6  diethylene_glycol_dimethyl_ether  0.998259   \n7                 isopropyl_alcohol  0.999922   \n8  diethylene_glycol_dimethyl_ether  0.995279   \n9                1,2-dichloroethane  0.986049   \n\n                                 2         3                   4         5   \\\n0                       cyclohexane  0.995129    trichloromethane  0.973697   \n1                   dichloromethane  0.994836         cyclohexane  0.809556   \n2                      acetonitrile  0.976795         cyclohexane  0.975125   \n3  diethylene_glycol_dimethyl_ether  0.997898  1,2-dichloroethane  0.985959   \n4                       cyclohexane  0.992149    trichloromethane  0.984025   \n5                       cyclohexane  0.978302     dichloromethane  0.969184   \n6                  trichloromethane  0.987152  1,2-dichloroethane  0.966796   \n7                      acetonitrile  0.994106     dichloromethane  0.894718   \n8                       cyclohexane  0.993068    trichloromethane  0.954561   \n9                       cyclohexane  0.885970             toluene  0.805659   \n\n                                 6         7                 8         9   \\\n0                1,2-dichloroethane  0.961720          methanol  0.000427   \n1                         1-butanol  0.644998            hexane  0.358927   \n2                           toluene  0.925490            hexane  0.241967   \n3                       cyclohexane  0.956041            hexane  0.005558   \n4                1,2-dichloroethane  0.982622          methanol  0.000514   \n5                           ethanol  0.961579  trichloromethane  0.034267   \n6                       cyclohexane  0.051482            hexane  0.043262   \n7                       cyclohexane  0.868571            hexane  0.231956   \n8                          methanol  0.328838   dichloromethane  0.000129   \n9  diethylene_glycol_dimethyl_ether  0.604515          methanol  0.000598   \n\n   ...                                14            15                  16  \\\n0  ...                           ethanol  2.048722e-08   isopropyl_alcohol   \n1  ...                          methanol  3.900311e-04             toluene   \n2  ...  diethylene_glycol_dimethyl_ether  7.588649e-04             ethanol   \n3  ...                   dichloromethane  3.735709e-06             ethanol   \n4  ...                           ethanol  2.029772e-08   isopropyl_alcohol   \n5  ...                         1-butanol  5.734857e-06   isopropyl_alcohol   \n6  ...                         1-butanol  9.523667e-08   isopropyl_alcohol   \n7  ...                1,2-dichloroethane  9.557473e-05             toluene   \n8  ...                           toluene  4.305035e-07  1,2-dichloroethane   \n9  ...                           ethanol  2.766575e-05        acetonitrile   \n\n             17                 18            19  \\\n0  2.769045e-09          1-butanol  7.475618e-10   \n1  5.545476e-05  isopropyl_alcohol  4.321016e-05   \n2  4.899718e-04          1-butanol  3.229742e-07   \n3  4.991081e-07          1-butanol  4.988178e-07   \n4  6.512747e-09            toluene  1.264057e-09   \n5  2.746953e-07       acetonitrile  1.985467e-07   \n6  6.339534e-08            ethanol  3.264719e-08   \n7  4.953618e-06            ethanol  4.451213e-06   \n8  1.531434e-08  isopropyl_alcohol  9.259478e-10   \n9  6.721791e-09   trichloromethane  1.161820e-09   \n\n                                 20            21                  22  \\\n0                           toluene  5.405035e-10        acetonitrile   \n1                1,2-dichloroethane  1.013915e-05        acetonitrile   \n2                          methanol  1.189224e-09  1,2-dichloroethane   \n3                 isopropyl_alcohol  8.154867e-09             toluene   \n4                         1-butanol  6.234342e-10        acetonitrile   \n5  diethylene_glycol_dimethyl_ether  1.830769e-07            methanol   \n6                      acetonitrile  3.016786e-09             toluene   \n7                         1-butanol  6.413697e-09            methanol   \n8                      acetonitrile  7.564879e-10           1-butanol   \n9                 isopropyl_alcohol  3.559505e-10           1-butanol   \n\n             23  \n0  1.609274e-10  \n1  3.093833e-09  \n2  5.633548e-10  \n3  4.289394e-09  \n4  2.340167e-10  \n5  6.887760e-09  \n6  1.886456e-09  \n7  1.788826e-09  \n8  1.846196e-10  \n9  2.541496e-11  \n\n[10 rows x 24 columns]",
      "text/html": "<div>\n<style scoped>\n    .dataframe tbody tr th:only-of-type {\n        vertical-align: middle;\n    }\n\n    .dataframe tbody tr th {\n        vertical-align: top;\n    }\n\n    .dataframe thead th {\n        text-align: right;\n    }\n</style>\n<table border=\"1\" class=\"dataframe\">\n  <thead>\n    <tr style=\"text-align: right;\">\n      <th></th>\n      <th>0</th>\n      <th>1</th>\n      <th>2</th>\n      <th>3</th>\n      <th>4</th>\n      <th>5</th>\n      <th>6</th>\n      <th>7</th>\n      <th>8</th>\n      <th>9</th>\n      <th>...</th>\n      <th>14</th>\n      <th>15</th>\n      <th>16</th>\n      <th>17</th>\n      <th>18</th>\n      <th>19</th>\n      <th>20</th>\n      <th>21</th>\n      <th>22</th>\n      <th>23</th>\n    </tr>\n  </thead>\n  <tbody>\n    <tr>\n      <th>0</th>\n      <td>diethylene_glycol_dimethyl_ether</td>\n      <td>0.997112</td>\n      <td>cyclohexane</td>\n      <td>0.995129</td>\n      <td>trichloromethane</td>\n      <td>0.973697</td>\n      <td>1,2-dichloroethane</td>\n      <td>0.961720</td>\n      <td>methanol</td>\n      <td>0.000427</td>\n      <td>...</td>\n      <td>ethanol</td>\n      <td>2.048722e-08</td>\n      <td>isopropyl_alcohol</td>\n      <td>2.769045e-09</td>\n      <td>1-butanol</td>\n      <td>7.475618e-10</td>\n      <td>toluene</td>\n      <td>5.405035e-10</td>\n      <td>acetonitrile</td>\n      <td>1.609274e-10</td>\n    </tr>\n    <tr>\n      <th>1</th>\n      <td>diethylene_glycol_dimethyl_ether</td>\n      <td>0.998766</td>\n      <td>dichloromethane</td>\n      <td>0.994836</td>\n      <td>cyclohexane</td>\n      <td>0.809556</td>\n      <td>1-butanol</td>\n      <td>0.644998</td>\n      <td>hexane</td>\n      <td>0.358927</td>\n      <td>...</td>\n      <td>methanol</td>\n      <td>3.900311e-04</td>\n      <td>toluene</td>\n      <td>5.545476e-05</td>\n      <td>isopropyl_alcohol</td>\n      <td>4.321016e-05</td>\n      <td>1,2-dichloroethane</td>\n      <td>1.013915e-05</td>\n      <td>acetonitrile</td>\n      <td>3.093833e-09</td>\n    </tr>\n    <tr>\n      <th>2</th>\n      <td>isopropyl_alcohol</td>\n      <td>0.999742</td>\n      <td>acetonitrile</td>\n      <td>0.976795</td>\n      <td>cyclohexane</td>\n      <td>0.975125</td>\n      <td>toluene</td>\n      <td>0.925490</td>\n      <td>hexane</td>\n      <td>0.241967</td>\n      <td>...</td>\n      <td>diethylene_glycol_dimethyl_ether</td>\n      <td>7.588649e-04</td>\n      <td>ethanol</td>\n      <td>4.899718e-04</td>\n      <td>1-butanol</td>\n      <td>3.229742e-07</td>\n      <td>methanol</td>\n      <td>1.189224e-09</td>\n      <td>1,2-dichloroethane</td>\n      <td>5.633548e-10</td>\n    </tr>\n    <tr>\n      <th>3</th>\n      <td>acetonitrile</td>\n      <td>0.999983</td>\n      <td>diethylene_glycol_dimethyl_ether</td>\n      <td>0.997898</td>\n      <td>1,2-dichloroethane</td>\n      <td>0.985959</td>\n      <td>cyclohexane</td>\n      <td>0.956041</td>\n      <td>hexane</td>\n      <td>0.005558</td>\n      <td>...</td>\n      <td>dichloromethane</td>\n      <td>3.735709e-06</td>\n      <td>ethanol</td>\n      <td>4.991081e-07</td>\n      <td>1-butanol</td>\n      <td>4.988178e-07</td>\n      <td>isopropyl_alcohol</td>\n      <td>8.154867e-09</td>\n      <td>toluene</td>\n      <td>4.289394e-09</td>\n    </tr>\n    <tr>\n      <th>4</th>\n      <td>diethylene_glycol_dimethyl_ether</td>\n      <td>0.996662</td>\n      <td>cyclohexane</td>\n      <td>0.992149</td>\n      <td>trichloromethane</td>\n      <td>0.984025</td>\n      <td>1,2-dichloroethane</td>\n      <td>0.982622</td>\n      <td>methanol</td>\n      <td>0.000514</td>\n      <td>...</td>\n      <td>ethanol</td>\n      <td>2.029772e-08</td>\n      <td>isopropyl_alcohol</td>\n      <td>6.512747e-09</td>\n      <td>toluene</td>\n      <td>1.264057e-09</td>\n      <td>1-butanol</td>\n      <td>6.234342e-10</td>\n      <td>acetonitrile</td>\n      <td>2.340167e-10</td>\n    </tr>\n    <tr>\n      <th>5</th>\n      <td>1,2-dichloroethane</td>\n      <td>0.999655</td>\n      <td>cyclohexane</td>\n      <td>0.978302</td>\n      <td>dichloromethane</td>\n      <td>0.969184</td>\n      <td>ethanol</td>\n      <td>0.961579</td>\n      <td>trichloromethane</td>\n      <td>0.034267</td>\n      <td>...</td>\n      <td>1-butanol</td>\n      <td>5.734857e-06</td>\n      <td>isopropyl_alcohol</td>\n      <td>2.746953e-07</td>\n      <td>acetonitrile</td>\n      <td>1.985467e-07</td>\n      <td>diethylene_glycol_dimethyl_ether</td>\n      <td>1.830769e-07</td>\n      <td>methanol</td>\n      <td>6.887760e-09</td>\n    </tr>\n    <tr>\n      <th>6</th>\n      <td>diethylene_glycol_dimethyl_ether</td>\n      <td>0.998259</td>\n      <td>trichloromethane</td>\n      <td>0.987152</td>\n      <td>1,2-dichloroethane</td>\n      <td>0.966796</td>\n      <td>cyclohexane</td>\n      <td>0.051482</td>\n      <td>hexane</td>\n      <td>0.043262</td>\n      <td>...</td>\n      <td>1-butanol</td>\n      <td>9.523667e-08</td>\n      <td>isopropyl_alcohol</td>\n      <td>6.339534e-08</td>\n      <td>ethanol</td>\n      <td>3.264719e-08</td>\n      <td>acetonitrile</td>\n      <td>3.016786e-09</td>\n      <td>toluene</td>\n      <td>1.886456e-09</td>\n    </tr>\n    <tr>\n      <th>7</th>\n      <td>isopropyl_alcohol</td>\n      <td>0.999922</td>\n      <td>acetonitrile</td>\n      <td>0.994106</td>\n      <td>dichloromethane</td>\n      <td>0.894718</td>\n      <td>cyclohexane</td>\n      <td>0.868571</td>\n      <td>hexane</td>\n      <td>0.231956</td>\n      <td>...</td>\n      <td>1,2-dichloroethane</td>\n      <td>9.557473e-05</td>\n      <td>toluene</td>\n      <td>4.953618e-06</td>\n      <td>ethanol</td>\n      <td>4.451213e-06</td>\n      <td>1-butanol</td>\n      <td>6.413697e-09</td>\n      <td>methanol</td>\n      <td>1.788826e-09</td>\n    </tr>\n    <tr>\n      <th>8</th>\n      <td>diethylene_glycol_dimethyl_ether</td>\n      <td>0.995279</td>\n      <td>cyclohexane</td>\n      <td>0.993068</td>\n      <td>trichloromethane</td>\n      <td>0.954561</td>\n      <td>methanol</td>\n      <td>0.328838</td>\n      <td>dichloromethane</td>\n      <td>0.000129</td>\n      <td>...</td>\n      <td>toluene</td>\n      <td>4.305035e-07</td>\n      <td>1,2-dichloroethane</td>\n      <td>1.531434e-08</td>\n      <td>isopropyl_alcohol</td>\n      <td>9.259478e-10</td>\n      <td>acetonitrile</td>\n      <td>7.564879e-10</td>\n      <td>1-butanol</td>\n      <td>1.846196e-10</td>\n    </tr>\n    <tr>\n      <th>9</th>\n      <td>1,2-dichloroethane</td>\n      <td>0.986049</td>\n      <td>cyclohexane</td>\n      <td>0.885970</td>\n      <td>toluene</td>\n      <td>0.805659</td>\n      <td>diethylene_glycol_dimethyl_ether</td>\n      <td>0.604515</td>\n      <td>methanol</td>\n      <td>0.000598</td>\n      <td>...</td>\n      <td>ethanol</td>\n      <td>2.766575e-05</td>\n      <td>acetonitrile</td>\n      <td>6.721791e-09</td>\n      <td>trichloromethane</td>\n      <td>1.161820e-09</td>\n      <td>isopropyl_alcohol</td>\n      <td>3.559505e-10</td>\n      <td>1-butanol</td>\n      <td>2.541496e-11</td>\n    </tr>\n  </tbody>\n</table>\n<p>10 rows × 24 columns</p>\n</div>"
     },
     "execution_count": 3,
     "metadata": {},
     "output_type": "execute_result"
    }
   ],
   "source": [
    "lib = ['1,2-dichloroethane', '1-butanol', 'acetonitrile', 'cyclohexane', 'dichloromethane', 'diethylene_glycol_dimethyl_ether', 'ethanol', 'hexane', 'isopropyl_alcohol', 'methanol', 'toluene', 'trichloromethane']\n",
    "predict('../model/DeepMIR.pth', '../data/Quaternary.npy', lib)"
   ],
   "metadata": {
    "collapsed": false,
    "ExecuteTime": {
     "end_time": "2024-05-09T08:43:56.027529200Z",
     "start_time": "2024-05-09T08:43:49.315666800Z"
    }
   }
  },
  {
   "cell_type": "markdown",
   "source": [
    "## 4. Metrics"
   ],
   "metadata": {
    "collapsed": false
   }
  },
  {
   "cell_type": "code",
   "execution_count": 5,
   "outputs": [
    {
     "name": "stdout",
     "output_type": "stream",
     "text": [
      "TPR:0.9500 TNR:1.0000 ACC:0.9833\n"
     ]
    }
   ],
   "source": [
    "TPR, TNR, ACC = Metrics('../res/DeepMIR.csv', '../data/Quaternary_labels.csv')\n",
    "print(\"TPR:{:.4f}\".format(TPR), \"TNR:{:.4f}\".format(TNR), \"ACC:{:.4f}\".format(ACC))"
   ],
   "metadata": {
    "collapsed": false,
    "ExecuteTime": {
     "end_time": "2024-05-09T08:44:38.416743900Z",
     "start_time": "2024-05-09T08:44:38.399984900Z"
    }
   }
  }
 ],
 "metadata": {
  "kernelspec": {
   "display_name": "Python 3",
   "language": "python",
   "name": "python3"
  },
  "language_info": {
   "codemirror_mode": {
    "name": "ipython",
    "version": 2
   },
   "file_extension": ".py",
   "mimetype": "text/x-python",
   "name": "python",
   "nbconvert_exporter": "python",
   "pygments_lexer": "ipython2",
   "version": "2.7.6"
  }
 },
 "nbformat": 4,
 "nbformat_minor": 0
}
