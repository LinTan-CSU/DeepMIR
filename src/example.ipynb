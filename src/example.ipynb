{
 "cells": [
  {
   "cell_type": "markdown",
   "source": [
    "# DeepMIR"
   ],
   "metadata": {
    "collapsed": false
   }
  },
  {
   "cell_type": "markdown",
   "source": [
    "## 1. Load tool packages"
   ],
   "metadata": {
    "collapsed": false
   }
  },
  {
   "cell_type": "code",
   "execution_count": 2,
   "outputs": [],
   "source": [
    "from Metrics import Metrics\n",
    "import wget\n",
    "from Predict import predict"
   ],
   "metadata": {
    "collapsed": false,
    "ExecuteTime": {
     "end_time": "2024-05-08T02:40:52.748872300Z",
     "start_time": "2024-05-08T02:40:52.298653600Z"
    }
   }
  },
  {
   "cell_type": "markdown",
   "source": [
    "## 2. Load the data"
   ],
   "metadata": {
    "collapsed": false
   }
  },
  {
   "cell_type": "code",
   "execution_count": 4,
   "outputs": [
    {
     "data": {
      "text/plain": "'../data//Quinary_labels.csv'"
     },
     "execution_count": 4,
     "metadata": {},
     "output_type": "execute_result"
    }
   ],
   "source": [
    "wget.download('https://github.com/LinTan-CSU/DeepMIR/releases/download/OrganicSolventsDataset/Quinary.npy', '../data/')\n",
    "wget.download('https://github.com/LinTan-CSU/DeepMIR/releases/download/OrganicSolventsDataset/Quinary_labels.csv', '../data/')"
   ],
   "metadata": {
    "collapsed": false,
    "ExecuteTime": {
     "end_time": "2024-05-08T02:42:14.732015400Z",
     "start_time": "2024-05-08T02:42:09.525694700Z"
    }
   }
  },
  {
   "cell_type": "markdown",
   "source": [
    "## 3. Component Prediction"
   ],
   "metadata": {
    "collapsed": false
   }
  },
  {
   "cell_type": "code",
   "execution_count": 5,
   "outputs": [
    {
     "data": {
      "text/plain": "                                 0         1                   2         3   \\\n0  diethylene_glycol_dimethyl_ether  0.994683    trichloromethane  0.990731   \n1  diethylene_glycol_dimethyl_ether  0.860354              hexane  0.766032   \n2                1,2-dichloroethane  0.998163             toluene  0.996601   \n3  diethylene_glycol_dimethyl_ether  0.994899    trichloromethane  0.991003   \n4  diethylene_glycol_dimethyl_ether  0.993772    trichloromethane  0.987186   \n5  diethylene_glycol_dimethyl_ether  0.994897     dichloromethane  0.993566   \n6                  trichloromethane  0.998237  1,2-dichloroethane  0.939884   \n7                1,2-dichloroethane  0.997683     dichloromethane  0.943085   \n8  diethylene_glycol_dimethyl_ether  0.995651  1,2-dichloroethane  0.990404   \n9                           toluene  0.999422              hexane  0.989782   \n\n                                 4         5   \\\n0                1,2-dichloroethane  0.986365   \n1                   dichloromethane  0.626013   \n2                      acetonitrile  0.493372   \n3                1,2-dichloroethane  0.990774   \n4                1,2-dichloroethane  0.986880   \n5                1,2-dichloroethane  0.959460   \n6  diethylene_glycol_dimethyl_ether  0.664068   \n7                      acetonitrile  0.694184   \n8                  trichloromethane  0.986855   \n9                1,2-dichloroethane  0.967012   \n\n                                 6         7             8         9   ...  \\\n0                       cyclohexane  0.748310        hexane  0.003976  ...   \n1                       cyclohexane  0.558945  acetonitrile  0.172104  ...   \n2                 isopropyl_alcohol  0.365752   cyclohexane  0.130474  ...   \n3                       cyclohexane  0.760246        hexane  0.003543  ...   \n4                       cyclohexane  0.809976        hexane  0.005012  ...   \n5                       cyclohexane  0.871631       ethanol  0.327777  ...   \n6                       cyclohexane  0.284383        hexane  0.039500  ...   \n7                            hexane  0.657081   cyclohexane  0.580991  ...   \n8                          methanol  0.550706   cyclohexane  0.255766  ...   \n9  diethylene_glycol_dimethyl_ether  0.965299   cyclohexane  0.831399  ...   \n\n                                 14            15                 16  \\\n0                      acetonitrile  7.492119e-07            ethanol   \n1                         1-butanol  3.801871e-03  isopropyl_alcohol   \n2  diethylene_glycol_dimethyl_ether  3.301279e-04   trichloromethane   \n3                      acetonitrile  5.959509e-07            toluene   \n4                      acetonitrile  1.911078e-06            toluene   \n5                           toluene  1.110579e-02           methanol   \n6                           toluene  1.143952e-04  isopropyl_alcohol   \n7  diethylene_glycol_dimethyl_ether  9.937742e-03            toluene   \n8                           ethanol  5.728223e-05            toluene   \n9                          methanol  9.523787e-06   trichloromethane   \n\n             17                 18            19                 20  \\\n0  2.986627e-07            toluene  2.807465e-07  isopropyl_alcohol   \n1  2.808955e-03            ethanol  9.849459e-04            toluene   \n2  1.722364e-04            ethanol  5.799922e-05           methanol   \n3  3.494573e-07            ethanol  2.769602e-07  isopropyl_alcohol   \n4  4.230922e-07            ethanol  3.766180e-07  isopropyl_alcohol   \n5  1.315955e-03          1-butanol  5.442278e-04  isopropyl_alcohol   \n6  1.697872e-06            ethanol  1.216945e-07          1-butanol   \n7  2.237382e-03            ethanol  4.275966e-05           methanol   \n8  3.222672e-07  isopropyl_alcohol  5.753150e-09          1-butanol   \n9  7.048780e-06            ethanol  1.759427e-06          1-butanol   \n\n             21                  22            23  \n0  3.295739e-08           1-butanol  7.568058e-09  \n1  2.154494e-05  1,2-dichloroethane  7.233953e-06  \n2  7.806433e-09           1-butanol  7.670277e-09  \n3  4.634565e-08           1-butanol  7.959504e-09  \n4  1.128455e-07           1-butanol  5.048996e-09  \n5  3.457910e-07        acetonitrile  2.567459e-08  \n6  1.146074e-09        acetonitrile  1.090353e-09  \n7  6.506480e-08           1-butanol  8.377971e-09  \n8  3.510443e-09        acetonitrile  7.447483e-10  \n9  2.036053e-07        acetonitrile  4.836358e-08  \n\n[10 rows x 24 columns]",
      "text/html": "<div>\n<style scoped>\n    .dataframe tbody tr th:only-of-type {\n        vertical-align: middle;\n    }\n\n    .dataframe tbody tr th {\n        vertical-align: top;\n    }\n\n    .dataframe thead th {\n        text-align: right;\n    }\n</style>\n<table border=\"1\" class=\"dataframe\">\n  <thead>\n    <tr style=\"text-align: right;\">\n      <th></th>\n      <th>0</th>\n      <th>1</th>\n      <th>2</th>\n      <th>3</th>\n      <th>4</th>\n      <th>5</th>\n      <th>6</th>\n      <th>7</th>\n      <th>8</th>\n      <th>9</th>\n      <th>...</th>\n      <th>14</th>\n      <th>15</th>\n      <th>16</th>\n      <th>17</th>\n      <th>18</th>\n      <th>19</th>\n      <th>20</th>\n      <th>21</th>\n      <th>22</th>\n      <th>23</th>\n    </tr>\n  </thead>\n  <tbody>\n    <tr>\n      <th>0</th>\n      <td>diethylene_glycol_dimethyl_ether</td>\n      <td>0.994683</td>\n      <td>trichloromethane</td>\n      <td>0.990731</td>\n      <td>1,2-dichloroethane</td>\n      <td>0.986365</td>\n      <td>cyclohexane</td>\n      <td>0.748310</td>\n      <td>hexane</td>\n      <td>0.003976</td>\n      <td>...</td>\n      <td>acetonitrile</td>\n      <td>7.492119e-07</td>\n      <td>ethanol</td>\n      <td>2.986627e-07</td>\n      <td>toluene</td>\n      <td>2.807465e-07</td>\n      <td>isopropyl_alcohol</td>\n      <td>3.295739e-08</td>\n      <td>1-butanol</td>\n      <td>7.568058e-09</td>\n    </tr>\n    <tr>\n      <th>1</th>\n      <td>diethylene_glycol_dimethyl_ether</td>\n      <td>0.860354</td>\n      <td>hexane</td>\n      <td>0.766032</td>\n      <td>dichloromethane</td>\n      <td>0.626013</td>\n      <td>cyclohexane</td>\n      <td>0.558945</td>\n      <td>acetonitrile</td>\n      <td>0.172104</td>\n      <td>...</td>\n      <td>1-butanol</td>\n      <td>3.801871e-03</td>\n      <td>isopropyl_alcohol</td>\n      <td>2.808955e-03</td>\n      <td>ethanol</td>\n      <td>9.849459e-04</td>\n      <td>toluene</td>\n      <td>2.154494e-05</td>\n      <td>1,2-dichloroethane</td>\n      <td>7.233953e-06</td>\n    </tr>\n    <tr>\n      <th>2</th>\n      <td>1,2-dichloroethane</td>\n      <td>0.998163</td>\n      <td>toluene</td>\n      <td>0.996601</td>\n      <td>acetonitrile</td>\n      <td>0.493372</td>\n      <td>isopropyl_alcohol</td>\n      <td>0.365752</td>\n      <td>cyclohexane</td>\n      <td>0.130474</td>\n      <td>...</td>\n      <td>diethylene_glycol_dimethyl_ether</td>\n      <td>3.301279e-04</td>\n      <td>trichloromethane</td>\n      <td>1.722364e-04</td>\n      <td>ethanol</td>\n      <td>5.799922e-05</td>\n      <td>methanol</td>\n      <td>7.806433e-09</td>\n      <td>1-butanol</td>\n      <td>7.670277e-09</td>\n    </tr>\n    <tr>\n      <th>3</th>\n      <td>diethylene_glycol_dimethyl_ether</td>\n      <td>0.994899</td>\n      <td>trichloromethane</td>\n      <td>0.991003</td>\n      <td>1,2-dichloroethane</td>\n      <td>0.990774</td>\n      <td>cyclohexane</td>\n      <td>0.760246</td>\n      <td>hexane</td>\n      <td>0.003543</td>\n      <td>...</td>\n      <td>acetonitrile</td>\n      <td>5.959509e-07</td>\n      <td>toluene</td>\n      <td>3.494573e-07</td>\n      <td>ethanol</td>\n      <td>2.769602e-07</td>\n      <td>isopropyl_alcohol</td>\n      <td>4.634565e-08</td>\n      <td>1-butanol</td>\n      <td>7.959504e-09</td>\n    </tr>\n    <tr>\n      <th>4</th>\n      <td>diethylene_glycol_dimethyl_ether</td>\n      <td>0.993772</td>\n      <td>trichloromethane</td>\n      <td>0.987186</td>\n      <td>1,2-dichloroethane</td>\n      <td>0.986880</td>\n      <td>cyclohexane</td>\n      <td>0.809976</td>\n      <td>hexane</td>\n      <td>0.005012</td>\n      <td>...</td>\n      <td>acetonitrile</td>\n      <td>1.911078e-06</td>\n      <td>toluene</td>\n      <td>4.230922e-07</td>\n      <td>ethanol</td>\n      <td>3.766180e-07</td>\n      <td>isopropyl_alcohol</td>\n      <td>1.128455e-07</td>\n      <td>1-butanol</td>\n      <td>5.048996e-09</td>\n    </tr>\n    <tr>\n      <th>5</th>\n      <td>diethylene_glycol_dimethyl_ether</td>\n      <td>0.994897</td>\n      <td>dichloromethane</td>\n      <td>0.993566</td>\n      <td>1,2-dichloroethane</td>\n      <td>0.959460</td>\n      <td>cyclohexane</td>\n      <td>0.871631</td>\n      <td>ethanol</td>\n      <td>0.327777</td>\n      <td>...</td>\n      <td>toluene</td>\n      <td>1.110579e-02</td>\n      <td>methanol</td>\n      <td>1.315955e-03</td>\n      <td>1-butanol</td>\n      <td>5.442278e-04</td>\n      <td>isopropyl_alcohol</td>\n      <td>3.457910e-07</td>\n      <td>acetonitrile</td>\n      <td>2.567459e-08</td>\n    </tr>\n    <tr>\n      <th>6</th>\n      <td>trichloromethane</td>\n      <td>0.998237</td>\n      <td>1,2-dichloroethane</td>\n      <td>0.939884</td>\n      <td>diethylene_glycol_dimethyl_ether</td>\n      <td>0.664068</td>\n      <td>cyclohexane</td>\n      <td>0.284383</td>\n      <td>hexane</td>\n      <td>0.039500</td>\n      <td>...</td>\n      <td>toluene</td>\n      <td>1.143952e-04</td>\n      <td>isopropyl_alcohol</td>\n      <td>1.697872e-06</td>\n      <td>ethanol</td>\n      <td>1.216945e-07</td>\n      <td>1-butanol</td>\n      <td>1.146074e-09</td>\n      <td>acetonitrile</td>\n      <td>1.090353e-09</td>\n    </tr>\n    <tr>\n      <th>7</th>\n      <td>1,2-dichloroethane</td>\n      <td>0.997683</td>\n      <td>dichloromethane</td>\n      <td>0.943085</td>\n      <td>acetonitrile</td>\n      <td>0.694184</td>\n      <td>hexane</td>\n      <td>0.657081</td>\n      <td>cyclohexane</td>\n      <td>0.580991</td>\n      <td>...</td>\n      <td>diethylene_glycol_dimethyl_ether</td>\n      <td>9.937742e-03</td>\n      <td>toluene</td>\n      <td>2.237382e-03</td>\n      <td>ethanol</td>\n      <td>4.275966e-05</td>\n      <td>methanol</td>\n      <td>6.506480e-08</td>\n      <td>1-butanol</td>\n      <td>8.377971e-09</td>\n    </tr>\n    <tr>\n      <th>8</th>\n      <td>diethylene_glycol_dimethyl_ether</td>\n      <td>0.995651</td>\n      <td>1,2-dichloroethane</td>\n      <td>0.990404</td>\n      <td>trichloromethane</td>\n      <td>0.986855</td>\n      <td>methanol</td>\n      <td>0.550706</td>\n      <td>cyclohexane</td>\n      <td>0.255766</td>\n      <td>...</td>\n      <td>ethanol</td>\n      <td>5.728223e-05</td>\n      <td>toluene</td>\n      <td>3.222672e-07</td>\n      <td>isopropyl_alcohol</td>\n      <td>5.753150e-09</td>\n      <td>1-butanol</td>\n      <td>3.510443e-09</td>\n      <td>acetonitrile</td>\n      <td>7.447483e-10</td>\n    </tr>\n    <tr>\n      <th>9</th>\n      <td>toluene</td>\n      <td>0.999422</td>\n      <td>hexane</td>\n      <td>0.989782</td>\n      <td>1,2-dichloroethane</td>\n      <td>0.967012</td>\n      <td>diethylene_glycol_dimethyl_ether</td>\n      <td>0.965299</td>\n      <td>cyclohexane</td>\n      <td>0.831399</td>\n      <td>...</td>\n      <td>methanol</td>\n      <td>9.523787e-06</td>\n      <td>trichloromethane</td>\n      <td>7.048780e-06</td>\n      <td>ethanol</td>\n      <td>1.759427e-06</td>\n      <td>1-butanol</td>\n      <td>2.036053e-07</td>\n      <td>acetonitrile</td>\n      <td>4.836358e-08</td>\n    </tr>\n  </tbody>\n</table>\n<p>10 rows × 24 columns</p>\n</div>"
     },
     "execution_count": 5,
     "metadata": {},
     "output_type": "execute_result"
    }
   ],
   "source": [
    "lib = ['1,2-dichloroethane', '1-butanol', 'acetonitrile', 'cyclohexane', 'dichloromethane', 'diethylene_glycol_dimethyl_ether', 'ethanol', 'hexane', 'isopropyl_alcohol', 'methanol', 'toluene', 'trichloromethane']\n",
    "predict('../model/DeepMIR.pth', '../data/Quinary.npy', lib)"
   ],
   "metadata": {
    "collapsed": false,
    "ExecuteTime": {
     "end_time": "2024-05-08T02:43:34.370108500Z",
     "start_time": "2024-05-08T02:43:27.610347Z"
    }
   }
  },
  {
   "cell_type": "markdown",
   "source": [
    "## 4. Metrics"
   ],
   "metadata": {
    "collapsed": false
   }
  },
  {
   "cell_type": "code",
   "execution_count": 6,
   "outputs": [
    {
     "name": "stdout",
     "output_type": "stream",
     "text": [
      "TPR:0.8600 TNR:0.9714 ACC:0.9250\n"
     ]
    }
   ],
   "source": [
    "TPR, TNR, ACC = Metrics('../res/DeepMIR_Quinary.csv', '../data/Quinary_labels.csv')\n",
    "print(\"TPR:{:.4f}\".format(TPR), \"TNR:{:.4f}\".format(TNR), \"ACC:{:.4f}\".format(ACC))"
   ],
   "metadata": {
    "collapsed": false,
    "ExecuteTime": {
     "end_time": "2024-05-08T02:44:09.859045700Z",
     "start_time": "2024-05-08T02:44:09.803102500Z"
    }
   }
  }
 ],
 "metadata": {
  "kernelspec": {
   "display_name": "Python 3",
   "language": "python",
   "name": "python3"
  },
  "language_info": {
   "codemirror_mode": {
    "name": "ipython",
    "version": 2
   },
   "file_extension": ".py",
   "mimetype": "text/x-python",
   "name": "python",
   "nbconvert_exporter": "python",
   "pygments_lexer": "ipython2",
   "version": "2.7.6"
  }
 },
 "nbformat": 4,
 "nbformat_minor": 0
}
